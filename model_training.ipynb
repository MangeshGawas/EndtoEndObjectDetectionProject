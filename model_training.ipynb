{
  "nbformat": 4,
  "nbformat_minor": 0,
  "metadata": {
    "colab": {
      "provenance": [],
      "gpuType": "T4",
      "authorship_tag": "ABX9TyPl0xafSsdZ5tyXWT1+enyE",
      "include_colab_link": true
    },
    "kernelspec": {
      "name": "python3",
      "display_name": "Python 3"
    },
    "language_info": {
      "name": "python"
    },
    "accelerator": "GPU"
  },
  "cells": [
    {
      "cell_type": "markdown",
      "metadata": {
        "id": "view-in-github",
        "colab_type": "text"
      },
      "source": [
        "<a href=\"https://colab.research.google.com/github/MangeshGawas/EndtoEndObjectDetectionProject/blob/main/model_training.ipynb\" target=\"_parent\"><img src=\"https://colab.research.google.com/assets/colab-badge.svg\" alt=\"Open In Colab\"/></a>"
      ]
    },
    {
      "cell_type": "code",
      "execution_count": 2,
      "metadata": {
        "id": "MNm4yVETxLMP"
      },
      "outputs": [],
      "source": []
    },
    {
      "cell_type": "markdown",
      "source": [
        "yolo V5\n"
      ],
      "metadata": {
        "id": "QrE36kgQJjm_"
      }
    },
    {
      "cell_type": "code",
      "source": [
        "!nvidia-smi\n"
      ],
      "metadata": {
        "colab": {
          "base_uri": "https://localhost:8080/"
        },
        "id": "hrBZIinaJkN0",
        "outputId": "bc2127db-a645-48e3-a773-a3b8c6e50d69"
      },
      "execution_count": 3,
      "outputs": [
        {
          "output_type": "stream",
          "name": "stdout",
          "text": [
            "Mon Jun  3 17:57:20 2024       \n",
            "+---------------------------------------------------------------------------------------+\n",
            "| NVIDIA-SMI 535.104.05             Driver Version: 535.104.05   CUDA Version: 12.2     |\n",
            "|-----------------------------------------+----------------------+----------------------+\n",
            "| GPU  Name                 Persistence-M | Bus-Id        Disp.A | Volatile Uncorr. ECC |\n",
            "| Fan  Temp   Perf          Pwr:Usage/Cap |         Memory-Usage | GPU-Util  Compute M. |\n",
            "|                                         |                      |               MIG M. |\n",
            "|=========================================+======================+======================|\n",
            "|   0  Tesla T4                       Off | 00000000:00:04.0 Off |                    0 |\n",
            "| N/A   43C    P8               9W /  70W |      0MiB / 15360MiB |      0%      Default |\n",
            "|                                         |                      |                  N/A |\n",
            "+-----------------------------------------+----------------------+----------------------+\n",
            "                                                                                         \n",
            "+---------------------------------------------------------------------------------------+\n",
            "| Processes:                                                                            |\n",
            "|  GPU   GI   CI        PID   Type   Process name                            GPU Memory |\n",
            "|        ID   ID                                                             Usage      |\n",
            "|=======================================================================================|\n",
            "|  No running processes found                                                           |\n",
            "+---------------------------------------------------------------------------------------+\n"
          ]
        }
      ]
    },
    {
      "cell_type": "code",
      "source": [
        "!git clone https://github.com/ultralytics/yolov5\n",
        "%cd yolov5\n"
      ],
      "metadata": {
        "colab": {
          "base_uri": "https://localhost:8080/"
        },
        "id": "I_yPIH1MJ6X3",
        "outputId": "45b3e196-41d4-4b29-e5e7-62a8754dd47a"
      },
      "execution_count": 4,
      "outputs": [
        {
          "output_type": "stream",
          "name": "stdout",
          "text": [
            "Cloning into 'yolov5'...\n",
            "remote: Enumerating objects: 16656, done.\u001b[K\n",
            "remote: Counting objects: 100% (7/7), done.\u001b[K\n",
            "remote: Compressing objects: 100% (7/7), done.\u001b[K\n",
            "remote: Total 16656 (delta 1), reused 5 (delta 0), pack-reused 16649\u001b[K\n",
            "Receiving objects: 100% (16656/16656), 15.12 MiB | 28.57 MiB/s, done.\n",
            "Resolving deltas: 100% (11438/11438), done.\n",
            "/content/yolov5\n"
          ]
        }
      ]
    },
    {
      "cell_type": "code",
      "source": [
        "%pwd"
      ],
      "metadata": {
        "colab": {
          "base_uri": "https://localhost:8080/",
          "height": 35
        },
        "id": "1oepc47aMpWM",
        "outputId": "1d0e034b-92c0-43ca-dc6d-150f88294383"
      },
      "execution_count": 5,
      "outputs": [
        {
          "output_type": "execute_result",
          "data": {
            "text/plain": [
              "'/content/yolov5'"
            ],
            "application/vnd.google.colaboratory.intrinsic+json": {
              "type": "string"
            }
          },
          "metadata": {},
          "execution_count": 5
        }
      ]
    },
    {
      "cell_type": "code",
      "source": [
        "!pip install -qr requirements.txt\n",
        "import torch\n",
        "\n",
        "from IPython.display import Image,clear_output"
      ],
      "metadata": {
        "colab": {
          "base_uri": "https://localhost:8080/"
        },
        "id": "VWpYkB3QM3-V",
        "outputId": "71724d83-e81b-4fbc-aca7-2c0b03e8ba71"
      },
      "execution_count": 6,
      "outputs": [
        {
          "output_type": "stream",
          "name": "stdout",
          "text": [
            "\u001b[2K     \u001b[90m━━━━━━━━━━━━━━━━━━━━━━━━━━━━━━━━━━━━━━━━\u001b[0m \u001b[32m207.3/207.3 kB\u001b[0m \u001b[31m4.4 MB/s\u001b[0m eta \u001b[36m0:00:00\u001b[0m\n",
            "\u001b[2K     \u001b[90m━━━━━━━━━━━━━━━━━━━━━━━━━━━━━━━━━━━━━━━━\u001b[0m \u001b[32m4.5/4.5 MB\u001b[0m \u001b[31m18.3 MB/s\u001b[0m eta \u001b[36m0:00:00\u001b[0m\n",
            "\u001b[2K     \u001b[90m━━━━━━━━━━━━━━━━━━━━━━━━━━━━━━━━━━━━━━━━\u001b[0m \u001b[32m64.9/64.9 kB\u001b[0m \u001b[31m9.4 MB/s\u001b[0m eta \u001b[36m0:00:00\u001b[0m\n",
            "\u001b[2K     \u001b[90m━━━━━━━━━━━━━━━━━━━━━━━━━━━━━━━━━━━━━━━━\u001b[0m \u001b[32m779.6/779.6 kB\u001b[0m \u001b[31m30.6 MB/s\u001b[0m eta \u001b[36m0:00:00\u001b[0m\n",
            "\u001b[2K     \u001b[90m━━━━━━━━━━━━━━━━━━━━━━━━━━━━━━━━━━━━━━━━\u001b[0m \u001b[32m62.7/62.7 kB\u001b[0m \u001b[31m8.6 MB/s\u001b[0m eta \u001b[36m0:00:00\u001b[0m\n",
            "\u001b[2K     \u001b[90m━━━━━━━━━━━━━━━━━━━━━━━━━━━━━━━━━━━━━━━━\u001b[0m \u001b[32m21.3/21.3 MB\u001b[0m \u001b[31m66.3 MB/s\u001b[0m eta \u001b[36m0:00:00\u001b[0m\n",
            "\u001b[?25h\u001b[31mERROR: pip's dependency resolver does not currently take into account all the packages that are installed. This behaviour is the source of the following dependency conflicts.\n",
            "google-colab 1.0.0 requires requests==2.31.0, but you have requests 2.32.3 which is incompatible.\n",
            "imageio 2.31.6 requires pillow<10.1.0,>=8.3.2, but you have pillow 10.3.0 which is incompatible.\u001b[0m\u001b[31m\n",
            "\u001b[0m"
          ]
        }
      ]
    },
    {
      "cell_type": "code",
      "source": [
        "!pwd"
      ],
      "metadata": {
        "colab": {
          "base_uri": "https://localhost:8080/"
        },
        "id": "8OH4Be8WNr0L",
        "outputId": "e2b569cd-76a5-409e-a141-4287ada86a19"
      },
      "execution_count": 7,
      "outputs": [
        {
          "output_type": "stream",
          "name": "stdout",
          "text": [
            "/content/yolov5\n"
          ]
        }
      ]
    },
    {
      "cell_type": "code",
      "source": [
        "!cd /content\n",
        "!curl -L \"https://github.com/entbappy/Branching-tutorial/raw/master/Sign_language_data.zip\" > SignData.zip; unzip SignData.zip; rm SignData.zip\n"
      ],
      "metadata": {
        "colab": {
          "base_uri": "https://localhost:8080/"
        },
        "id": "AubFtJ56N4x4",
        "outputId": "079152a3-45da-4373-d2d1-2b38b6782ffd"
      },
      "execution_count": 8,
      "outputs": [
        {
          "output_type": "stream",
          "name": "stdout",
          "text": [
            "  % Total    % Received % Xferd  Average Speed   Time    Time     Time  Current\n",
            "                                 Dload  Upload   Total   Spent    Left  Speed\n",
            "  0     0    0     0    0     0      0      0 --:--:-- --:--:-- --:--:--     0\n",
            "100  9.7M  100  9.7M    0     0  5994k      0  0:00:01  0:00:01 --:--:-- 26.8M\n",
            "Archive:  SignData.zip\n",
            "  inflating: data.yaml               \n",
            "   creating: test/images/\n",
            "  inflating: test/images/Hello.82af5cd8-a6d1-11ec-a2fc-84a93ea18ae6.jpg  \n",
            "  inflating: test/images/Hello.8b2540a6-a6d1-11ec-a828-84a93ea18ae6 - Copy.jpg  \n",
            "  inflating: test/images/Hello.8b2540a6-a6d1-11ec-a828-84a93ea18ae6.jpg  \n",
            "  inflating: test/images/Hello.8c5b98c8-a6d1-11ec-a905-84a93ea18ae6.jpg  \n",
            "  inflating: test/images/Hello.8d922278-a6d1-11ec-9c17-84a93ea18ae6.jpg  \n",
            "  inflating: test/images/IloveYou.01279dee-a6d2-11ec-a775-84a93ea18ae6.jpg  \n",
            "  inflating: test/images/IloveYou.0391a1b8-a6d2-11ec-9246-84a93ea18ae6.jpg  \n",
            "  inflating: test/images/IloveYou.04c7764c-a6d2-11ec-998a-84a93ea18ae6 - Copy.jpg  \n",
            "  inflating: test/images/IloveYou.04c7764c-a6d2-11ec-998a-84a93ea18ae6.jpg  \n",
            "  inflating: test/images/IloveYou.05fc3c80-a6d2-11ec-ba0a-84a93ea18ae6.jpg  \n",
            "  inflating: test/images/No.b81769f8-a6d1-11ec-8d33-84a93ea18ae6.jpg  \n",
            "  inflating: test/images/No.b94ba4ee-a6d1-11ec-b2ba-84a93ea18ae6.jpg  \n",
            "  inflating: test/images/No.ba816d2e-a6d1-11ec-898a-84a93ea18ae6.jpg  \n",
            "  inflating: test/images/No.bbb5b350-a6d1-11ec-988f-84a93ea18ae6.jpg  \n",
            "  inflating: test/images/No.bce99c74-a6d1-11ec-8c1b-84a93ea18ae6.jpg  \n",
            "  inflating: test/images/Please.0c268ce4-a6d2-11ec-9f18-84a93ea18ae6.jpg  \n",
            "  inflating: test/images/Please.0d5c368c-a6d2-11ec-aa39-84a93ea18ae6.jpg  \n",
            "  inflating: test/images/Please.0eb881f4-a6d2-11ec-b189-84a93ea18ae6.jpg  \n",
            "  inflating: test/images/Please.0fee219c-a6d2-11ec-b053-84a93ea18ae6.jpg  \n",
            "  inflating: test/images/Please.1ad33b64-a6d2-11ec-a9f7-84a93ea18ae6.jpg  \n",
            "  inflating: test/images/Thanks.d40538dc-a6d1-11ec-83da-84a93ea18ae6.jpg  \n",
            "  inflating: test/images/Thanks.d53a6f1c-a6d1-11ec-b146-84a93ea18ae6.jpg  \n",
            "  inflating: test/images/Thanks.d6712d6e-a6d1-11ec-a11a-84a93ea18ae6.jpg  \n",
            "  inflating: test/images/Thanks.d7a66c58-a6d1-11ec-bc8a-84a93ea18ae6.jpg  \n",
            "  inflating: test/images/Thanks.d8e8125c-a6d1-11ec-ab8a-84a93ea18ae6.jpg  \n",
            "  inflating: test/images/Yes.9c38304a-a6d1-11ec-9479-84a93ea18ae6.jpg  \n",
            "  inflating: test/images/Yes.9d6bf3fa-a6d1-11ec-a87d-84a93ea18ae6.jpg  \n",
            "  inflating: test/images/Yes.9ea079ba-a6d1-11ec-9707-84a93ea18ae6.jpg  \n",
            "  inflating: test/images/Yes.9fd5c7c0-a6d1-11ec-853d-84a93ea18ae6.jpg  \n",
            "  inflating: test/images/Yes.a4ae0126-a6d1-11ec-98f0-84a93ea18ae6.jpg  \n",
            "   creating: test/labels/\n",
            "  inflating: test/labels/Hello.82af5cd8-a6d1-11ec-a2fc-84a93ea18ae6.txt  \n",
            "  inflating: test/labels/Hello.8b2540a6-a6d1-11ec-a828-84a93ea18ae6 - Copy.txt  \n",
            "  inflating: test/labels/Hello.8b2540a6-a6d1-11ec-a828-84a93ea18ae6.txt  \n",
            "  inflating: test/labels/Hello.8c5b98c8-a6d1-11ec-a905-84a93ea18ae6.txt  \n",
            "  inflating: test/labels/Hello.8d922278-a6d1-11ec-9c17-84a93ea18ae6.txt  \n",
            "  inflating: test/labels/IloveYou.01279dee-a6d2-11ec-a775-84a93ea18ae6.txt  \n",
            "  inflating: test/labels/IloveYou.0391a1b8-a6d2-11ec-9246-84a93ea18ae6.txt  \n",
            "  inflating: test/labels/IloveYou.04c7764c-a6d2-11ec-998a-84a93ea18ae6 - Copy.txt  \n",
            "  inflating: test/labels/IloveYou.04c7764c-a6d2-11ec-998a-84a93ea18ae6.txt  \n",
            "  inflating: test/labels/IloveYou.05fc3c80-a6d2-11ec-ba0a-84a93ea18ae6.txt  \n",
            "  inflating: test/labels/No.b81769f8-a6d1-11ec-8d33-84a93ea18ae6.txt  \n",
            "  inflating: test/labels/No.b94ba4ee-a6d1-11ec-b2ba-84a93ea18ae6.txt  \n",
            "  inflating: test/labels/No.ba816d2e-a6d1-11ec-898a-84a93ea18ae6.txt  \n",
            "  inflating: test/labels/No.bbb5b350-a6d1-11ec-988f-84a93ea18ae6.txt  \n",
            "  inflating: test/labels/No.bce99c74-a6d1-11ec-8c1b-84a93ea18ae6.txt  \n",
            "  inflating: test/labels/Please.0c268ce4-a6d2-11ec-9f18-84a93ea18ae6.txt  \n",
            "  inflating: test/labels/Please.0d5c368c-a6d2-11ec-aa39-84a93ea18ae6.txt  \n",
            "  inflating: test/labels/Please.0eb881f4-a6d2-11ec-b189-84a93ea18ae6.txt  \n",
            "  inflating: test/labels/Please.0fee219c-a6d2-11ec-b053-84a93ea18ae6.txt  \n",
            "  inflating: test/labels/Please.1ad33b64-a6d2-11ec-a9f7-84a93ea18ae6.txt  \n",
            "  inflating: test/labels/Thanks.d40538dc-a6d1-11ec-83da-84a93ea18ae6.txt  \n",
            "  inflating: test/labels/Thanks.d53a6f1c-a6d1-11ec-b146-84a93ea18ae6.txt  \n",
            "  inflating: test/labels/Thanks.d6712d6e-a6d1-11ec-a11a-84a93ea18ae6.txt  \n",
            "  inflating: test/labels/Thanks.d7a66c58-a6d1-11ec-bc8a-84a93ea18ae6.txt  \n",
            "  inflating: test/labels/Thanks.d8e8125c-a6d1-11ec-ab8a-84a93ea18ae6.txt  \n",
            "  inflating: test/labels/Yes.9c38304a-a6d1-11ec-9479-84a93ea18ae6.txt  \n",
            "  inflating: test/labels/Yes.9d6bf3fa-a6d1-11ec-a87d-84a93ea18ae6.txt  \n",
            "  inflating: test/labels/Yes.9ea079ba-a6d1-11ec-9707-84a93ea18ae6.txt  \n",
            "  inflating: test/labels/Yes.9fd5c7c0-a6d1-11ec-853d-84a93ea18ae6.txt  \n",
            "  inflating: test/labels/Yes.a4ae0126-a6d1-11ec-98f0-84a93ea18ae6.txt  \n",
            "   creating: train/images/\n",
            "  inflating: train/images/Hello.803b4934-a6d1-11ec-a175-84a93ea18ae6.jpg  \n",
            "  inflating: train/images/Hello.81794bae-a6d1-11ec-9ec1-84a93ea18ae6.jpg  \n",
            "  inflating: train/images/Hello.82af5cd8-a6d1-11ec-a2fc-84a93ea18ae6.jpg  \n",
            "  inflating: train/images/Hello.83e4b27e-a6d1-11ec-bb78-84a93ea18ae6.jpg  \n",
            "  inflating: train/images/Hello.8518e598-a6d1-11ec-9a9a-84a93ea18ae6 - Copy.jpg  \n",
            "  inflating: train/images/Hello.8518e598-a6d1-11ec-9a9a-84a93ea18ae6.jpg  \n",
            "  inflating: train/images/Hello.864dd09c-a6d1-11ec-bcf2-84a93ea18ae6.jpg  \n",
            "  inflating: train/images/Hello.87840e62-a6d1-11ec-9b5e-84a93ea18ae6.jpg  \n",
            "  inflating: train/images/Hello.88ba94a2-a6d1-11ec-a13e-84a93ea18ae6.jpg  \n",
            "  inflating: train/images/Hello.89f10330-a6d1-11ec-85f2-84a93ea18ae6.jpg  \n",
            "  inflating: train/images/Hello.8b2540a6-a6d1-11ec-a828-84a93ea18ae6 - Copy.jpg  \n",
            "  inflating: train/images/Hello.8b2540a6-a6d1-11ec-a828-84a93ea18ae6.jpg  \n",
            "  inflating: train/images/Hello.8c5b98c8-a6d1-11ec-a905-84a93ea18ae6.jpg  \n",
            "  inflating: train/images/Hello.8d922278-a6d1-11ec-9c17-84a93ea18ae6.jpg  \n",
            "  inflating: train/images/Hello.91349e48-a6d1-11ec-9c40-84a93ea18ae6.jpg  \n",
            "  inflating: train/images/Hello.926aeae2-a6d1-11ec-878b-84a93ea18ae6.jpg  \n",
            "  inflating: train/images/Hello.93a20f68-a6d1-11ec-ac11-84a93ea18ae6.jpg  \n",
            "  inflating: train/images/Hello.94d76664-a6d1-11ec-a96e-84a93ea18ae6.jpg  \n",
            "  inflating: train/images/Hello.960f020a-a6d1-11ec-ad41-84a93ea18ae6.jpg  \n",
            "  inflating: train/images/Hello.97438b78-a6d1-11ec-acc0-84a93ea18ae6.jpg  \n",
            "  inflating: train/images/IloveYou.01279dee-a6d2-11ec-a775-84a93ea18ae6.jpg  \n",
            "  inflating: train/images/IloveYou.0391a1b8-a6d2-11ec-9246-84a93ea18ae6.jpg  \n",
            "  inflating: train/images/IloveYou.04c7764c-a6d2-11ec-998a-84a93ea18ae6 - Copy.jpg  \n",
            "  inflating: train/images/IloveYou.04c7764c-a6d2-11ec-998a-84a93ea18ae6.jpg  \n",
            "  inflating: train/images/IloveYou.05fc3c80-a6d2-11ec-ba0a-84a93ea18ae6.jpg  \n",
            "  inflating: train/images/IloveYou.0732425e-a6d2-11ec-8372-84a93ea18ae6 - Copy.jpg  \n",
            "  inflating: train/images/IloveYou.0732425e-a6d2-11ec-8372-84a93ea18ae6.jpg  \n",
            "  inflating: train/images/IloveYou.f01ba630-a6d1-11ec-97b3-84a93ea18ae6.jpg  \n",
            "  inflating: train/images/IloveYou.f151aa12-a6d1-11ec-8639-84a93ea18ae6.jpg  \n",
            "  inflating: train/images/IloveYou.f287e4a2-a6d1-11ec-9b23-84a93ea18ae6.jpg  \n",
            "  inflating: train/images/IloveYou.f3bdd3ca-a6d1-11ec-97b3-84a93ea18ae6.jpg  \n",
            "  inflating: train/images/IloveYou.f4f422ee-a6d1-11ec-99d6-84a93ea18ae6.jpg  \n",
            "  inflating: train/images/IloveYou.f6292bb4-a6d1-11ec-91a4-84a93ea18ae6.jpg  \n",
            "  inflating: train/images/IloveYou.f75ca6d0-a6d1-11ec-bfad-84a93ea18ae6.jpg  \n",
            "  inflating: train/images/IloveYou.f895cdee-a6d1-11ec-9305-84a93ea18ae6.jpg  \n",
            "  inflating: train/images/IloveYou.f9ca935e-a6d1-11ec-8c39-84a93ea18ae6.jpg  \n",
            "  inflating: train/images/IloveYou.fc3327cc-a6d1-11ec-89b5-84a93ea18ae6.jpg  \n",
            "  inflating: train/images/IloveYou.fd897d98-a6d1-11ec-bcaa-84a93ea18ae6.jpg  \n",
            "  inflating: train/images/IloveYou.febd9c0a-a6d1-11ec-a233-84a93ea18ae6.jpg  \n",
            "  inflating: train/images/IloveYou.fff383c2-a6d1-11ec-8ce1-84a93ea18ae6.jpg  \n",
            "  inflating: train/images/No.b81769f8-a6d1-11ec-8d33-84a93ea18ae6.jpg  \n",
            "  inflating: train/images/No.b94ba4ee-a6d1-11ec-b2ba-84a93ea18ae6.jpg  \n",
            "  inflating: train/images/No.ba816d2e-a6d1-11ec-898a-84a93ea18ae6.jpg  \n",
            "  inflating: train/images/No.bbb5b350-a6d1-11ec-988f-84a93ea18ae6.jpg  \n",
            "  inflating: train/images/No.bce99c74-a6d1-11ec-8c1b-84a93ea18ae6.jpg  \n",
            "  inflating: train/images/No.be1def24-a6d1-11ec-bf88-84a93ea18ae6.jpg  \n",
            "  inflating: train/images/No.bf529c0c-a6d1-11ec-baff-84a93ea18ae6.jpg  \n",
            "  inflating: train/images/No.c088dc76-a6d1-11ec-b9cb-84a93ea18ae6.jpg  \n",
            "  inflating: train/images/No.c1bf9258-a6d1-11ec-95a2-84a93ea18ae6.jpg  \n",
            "  inflating: train/images/No.c2f48c90-a6d1-11ec-8e7f-84a93ea18ae6.jpg  \n",
            "  inflating: train/images/No.c42a01da-a6d1-11ec-9f4f-84a93ea18ae6.jpg  \n",
            "  inflating: train/images/No.c55e849e-a6d1-11ec-8e7e-84a93ea18ae6.jpg  \n",
            "  inflating: train/images/No.c6947c6e-a6d1-11ec-8894-84a93ea18ae6.jpg  \n",
            "  inflating: train/images/No.c7caa8fa-a6d1-11ec-a447-84a93ea18ae6.jpg  \n",
            "  inflating: train/images/No.c8ff4a42-a6d1-11ec-8fe7-84a93ea18ae6.jpg  \n",
            "  inflating: train/images/No.ca3403b8-a6d1-11ec-bec1-84a93ea18ae6.jpg  \n",
            "  inflating: train/images/No.cb69474c-a6d1-11ec-b02e-84a93ea18ae6.jpg  \n",
            "  inflating: train/images/No.cc9f7640-a6d1-11ec-bab0-84a93ea18ae6.jpg  \n",
            "  inflating: train/images/No.cdd3d20a-a6d1-11ec-9387-84a93ea18ae6.jpg  \n",
            "  inflating: train/images/No.cf0823e6-a6d1-11ec-b88a-84a93ea18ae6.jpg  \n",
            "  inflating: train/images/Please.0c268ce4-a6d2-11ec-9f18-84a93ea18ae6.jpg  \n",
            "  inflating: train/images/Please.0d5c368c-a6d2-11ec-aa39-84a93ea18ae6.jpg  \n",
            "  inflating: train/images/Please.0eb881f4-a6d2-11ec-b189-84a93ea18ae6.jpg  \n",
            "  inflating: train/images/Please.0fee219c-a6d2-11ec-b053-84a93ea18ae6.jpg  \n",
            "  inflating: train/images/Please.1124025e-a6d2-11ec-bda7-84a93ea18ae6.jpg  \n",
            "  inflating: train/images/Please.125a16da-a6d2-11ec-934a-84a93ea18ae6.jpg  \n",
            "  inflating: train/images/Please.13901bf0-a6d2-11ec-bb59-84a93ea18ae6.jpg  \n",
            "  inflating: train/images/Please.14c6782c-a6d2-11ec-be1e-84a93ea18ae6.jpg  \n",
            "  inflating: train/images/Please.15fa9c00-a6d2-11ec-9b9e-84a93ea18ae6.jpg  \n",
            "  inflating: train/images/Please.172f70ca-a6d2-11ec-b282-84a93ea18ae6.jpg  \n",
            "  inflating: train/images/Please.1866028c-a6d2-11ec-967c-84a93ea18ae6.jpg  \n",
            "  inflating: train/images/Please.199d917a-a6d2-11ec-a9b6-84a93ea18ae6.jpg  \n",
            "  inflating: train/images/Please.1ad33b64-a6d2-11ec-a9f7-84a93ea18ae6.jpg  \n",
            "  inflating: train/images/Please.1c08151c-a6d2-11ec-b693-84a93ea18ae6.jpg  \n",
            "  inflating: train/images/Please.1d3ced9e-a6d2-11ec-93b0-84a93ea18ae6.jpg  \n",
            "  inflating: train/images/Please.1e71bad2-a6d2-11ec-9ea9-84a93ea18ae6.jpg  \n",
            "  inflating: train/images/Please.1fa61fc0-a6d2-11ec-8bab-84a93ea18ae6.jpg  \n",
            "  inflating: train/images/Please.20dbdb1e-a6d2-11ec-86ce-84a93ea18ae6.jpg  \n",
            "  inflating: train/images/Please.2210c568-a6d2-11ec-a8b7-84a93ea18ae6.jpg  \n",
            "  inflating: train/images/Please.23459af4-a6d2-11ec-9611-84a93ea18ae6.jpg  \n",
            "  inflating: train/images/Thanks.d40538dc-a6d1-11ec-83da-84a93ea18ae6.jpg  \n",
            "  inflating: train/images/Thanks.d53a6f1c-a6d1-11ec-b146-84a93ea18ae6.jpg  \n",
            "  inflating: train/images/Thanks.d6712d6e-a6d1-11ec-a11a-84a93ea18ae6.jpg  \n",
            "  inflating: train/images/Thanks.d7a66c58-a6d1-11ec-bc8a-84a93ea18ae6.jpg  \n",
            "  inflating: train/images/Thanks.d8e8125c-a6d1-11ec-ab8a-84a93ea18ae6.jpg  \n",
            "  inflating: train/images/Thanks.da1e126c-a6d1-11ec-95b2-84a93ea18ae6.jpg  \n",
            "  inflating: train/images/Thanks.db530524-a6d1-11ec-879c-84a93ea18ae6.jpg  \n",
            "  inflating: train/images/Thanks.dc8902a6-a6d1-11ec-abc8-84a93ea18ae6.jpg  \n",
            "  inflating: train/images/Thanks.ddcc3be2-a6d1-11ec-9704-84a93ea18ae6.jpg  \n",
            "  inflating: train/images/Thanks.df0337a8-a6d1-11ec-b55f-84a93ea18ae6.jpg  \n",
            "  inflating: train/images/Thanks.e038a1c8-a6d1-11ec-8deb-84a93ea18ae6.jpg  \n",
            "  inflating: train/images/Thanks.e16c8da8-a6d1-11ec-9812-84a93ea18ae6.jpg  \n",
            "  inflating: train/images/Thanks.e2a18e54-a6d1-11ec-ad45-84a93ea18ae6.jpg  \n",
            "  inflating: train/images/Thanks.e3d6259c-a6d1-11ec-84de-84a93ea18ae6.jpg  \n",
            "  inflating: train/images/Thanks.e50d153a-a6d1-11ec-85e6-84a93ea18ae6.jpg  \n",
            "  inflating: train/images/Thanks.e642cf5c-a6d1-11ec-af05-84a93ea18ae6.jpg  \n",
            "  inflating: train/images/Thanks.e778e9c6-a6d1-11ec-bbd4-84a93ea18ae6.jpg  \n",
            "  inflating: train/images/Thanks.e8af6876-a6d1-11ec-a52b-84a93ea18ae6.jpg  \n",
            "  inflating: train/images/Thanks.e9e54c62-a6d1-11ec-8f75-84a93ea18ae6.jpg  \n",
            "  inflating: train/images/Thanks.eb1a349a-a6d1-11ec-8cda-84a93ea18ae6.jpg  \n",
            "  inflating: train/images/Yes.9c38304a-a6d1-11ec-9479-84a93ea18ae6.jpg  \n",
            "  inflating: train/images/Yes.9d6bf3fa-a6d1-11ec-a87d-84a93ea18ae6.jpg  \n",
            "  inflating: train/images/Yes.9ea079ba-a6d1-11ec-9707-84a93ea18ae6.jpg  \n",
            "  inflating: train/images/Yes.9fd5c7c0-a6d1-11ec-853d-84a93ea18ae6.jpg  \n",
            "  inflating: train/images/Yes.a10d3edc-a6d1-11ec-a82b-84a93ea18ae6.jpg  \n",
            "  inflating: train/images/Yes.a37858ec-a6d1-11ec-bde5-84a93ea18ae6.jpg  \n",
            "  inflating: train/images/Yes.a4ae0126-a6d1-11ec-98f0-84a93ea18ae6.jpg  \n",
            "  inflating: train/images/Yes.a5e2a7ec-a6d1-11ec-818d-84a93ea18ae6.jpg  \n",
            "  inflating: train/images/Yes.a7172876-a6d1-11ec-949d-84a93ea18ae6.jpg  \n",
            "  inflating: train/images/Yes.a84d35fa-a6d1-11ec-9eab-84a93ea18ae6.jpg  \n",
            "  inflating: train/images/Yes.a9824dee-a6d1-11ec-8558-84a93ea18ae6.jpg  \n",
            "  inflating: train/images/Yes.aab81802-a6d1-11ec-b2b7-84a93ea18ae6.jpg  \n",
            "  inflating: train/images/Yes.abee0b40-a6d1-11ec-b920-84a93ea18ae6.jpg  \n",
            "  inflating: train/images/Yes.ad246fee-a6d1-11ec-9275-84a93ea18ae6.jpg  \n",
            "  inflating: train/images/Yes.ae592ce2-a6d1-11ec-85cb-84a93ea18ae6.jpg  \n",
            "  inflating: train/images/Yes.af8e1b36-a6d1-11ec-b27d-84a93ea18ae6.jpg  \n",
            "  inflating: train/images/Yes.b0c45a10-a6d1-11ec-9f4e-84a93ea18ae6.jpg  \n",
            "  inflating: train/images/Yes.b1fa407e-a6d1-11ec-8cec-84a93ea18ae6 - Copy.jpg  \n",
            "  inflating: train/images/Yes.b1fa407e-a6d1-11ec-8cec-84a93ea18ae6.jpg  \n",
            "  inflating: train/images/Yes.b32eaca4-a6d1-11ec-a3b5-84a93ea18ae6.jpg  \n",
            "   creating: train/labels/\n",
            "  inflating: train/labels/Hello.803b4934-a6d1-11ec-a175-84a93ea18ae6.txt  \n",
            "  inflating: train/labels/Hello.81794bae-a6d1-11ec-9ec1-84a93ea18ae6.txt  \n",
            "  inflating: train/labels/Hello.82af5cd8-a6d1-11ec-a2fc-84a93ea18ae6.txt  \n",
            "  inflating: train/labels/Hello.83e4b27e-a6d1-11ec-bb78-84a93ea18ae6.txt  \n",
            "  inflating: train/labels/Hello.8518e598-a6d1-11ec-9a9a-84a93ea18ae6 - Copy.txt  \n",
            "  inflating: train/labels/Hello.8518e598-a6d1-11ec-9a9a-84a93ea18ae6.txt  \n",
            "  inflating: train/labels/Hello.864dd09c-a6d1-11ec-bcf2-84a93ea18ae6.txt  \n",
            "  inflating: train/labels/Hello.87840e62-a6d1-11ec-9b5e-84a93ea18ae6.txt  \n",
            "  inflating: train/labels/Hello.88ba94a2-a6d1-11ec-a13e-84a93ea18ae6.txt  \n",
            "  inflating: train/labels/Hello.89f10330-a6d1-11ec-85f2-84a93ea18ae6.txt  \n",
            "  inflating: train/labels/Hello.8b2540a6-a6d1-11ec-a828-84a93ea18ae6 - Copy.txt  \n",
            "  inflating: train/labels/Hello.8b2540a6-a6d1-11ec-a828-84a93ea18ae6.txt  \n",
            "  inflating: train/labels/Hello.8c5b98c8-a6d1-11ec-a905-84a93ea18ae6.txt  \n",
            "  inflating: train/labels/Hello.8d922278-a6d1-11ec-9c17-84a93ea18ae6.txt  \n",
            "  inflating: train/labels/Hello.91349e48-a6d1-11ec-9c40-84a93ea18ae6.txt  \n",
            "  inflating: train/labels/Hello.926aeae2-a6d1-11ec-878b-84a93ea18ae6.txt  \n",
            "  inflating: train/labels/Hello.93a20f68-a6d1-11ec-ac11-84a93ea18ae6.txt  \n",
            "  inflating: train/labels/Hello.94d76664-a6d1-11ec-a96e-84a93ea18ae6.txt  \n",
            "  inflating: train/labels/Hello.960f020a-a6d1-11ec-ad41-84a93ea18ae6.txt  \n",
            "  inflating: train/labels/Hello.97438b78-a6d1-11ec-acc0-84a93ea18ae6.txt  \n",
            "  inflating: train/labels/IloveYou.01279dee-a6d2-11ec-a775-84a93ea18ae6.txt  \n",
            "  inflating: train/labels/IloveYou.0391a1b8-a6d2-11ec-9246-84a93ea18ae6.txt  \n",
            "  inflating: train/labels/IloveYou.04c7764c-a6d2-11ec-998a-84a93ea18ae6 - Copy.txt  \n",
            "  inflating: train/labels/IloveYou.04c7764c-a6d2-11ec-998a-84a93ea18ae6.txt  \n",
            "  inflating: train/labels/IloveYou.05fc3c80-a6d2-11ec-ba0a-84a93ea18ae6.txt  \n",
            "  inflating: train/labels/IloveYou.0732425e-a6d2-11ec-8372-84a93ea18ae6 - Copy.txt  \n",
            "  inflating: train/labels/IloveYou.0732425e-a6d2-11ec-8372-84a93ea18ae6.txt  \n",
            "  inflating: train/labels/IloveYou.f01ba630-a6d1-11ec-97b3-84a93ea18ae6.txt  \n",
            "  inflating: train/labels/IloveYou.f151aa12-a6d1-11ec-8639-84a93ea18ae6.txt  \n",
            "  inflating: train/labels/IloveYou.f287e4a2-a6d1-11ec-9b23-84a93ea18ae6.txt  \n",
            "  inflating: train/labels/IloveYou.f3bdd3ca-a6d1-11ec-97b3-84a93ea18ae6.txt  \n",
            "  inflating: train/labels/IloveYou.f4f422ee-a6d1-11ec-99d6-84a93ea18ae6.txt  \n",
            "  inflating: train/labels/IloveYou.f6292bb4-a6d1-11ec-91a4-84a93ea18ae6.txt  \n",
            "  inflating: train/labels/IloveYou.f75ca6d0-a6d1-11ec-bfad-84a93ea18ae6.txt  \n",
            "  inflating: train/labels/IloveYou.f895cdee-a6d1-11ec-9305-84a93ea18ae6.txt  \n",
            "  inflating: train/labels/IloveYou.f9ca935e-a6d1-11ec-8c39-84a93ea18ae6.txt  \n",
            "  inflating: train/labels/IloveYou.fc3327cc-a6d1-11ec-89b5-84a93ea18ae6.txt  \n",
            "  inflating: train/labels/IloveYou.fd897d98-a6d1-11ec-bcaa-84a93ea18ae6.txt  \n",
            "  inflating: train/labels/IloveYou.febd9c0a-a6d1-11ec-a233-84a93ea18ae6.txt  \n",
            "  inflating: train/labels/IloveYou.fff383c2-a6d1-11ec-8ce1-84a93ea18ae6.txt  \n",
            "  inflating: train/labels/No.b81769f8-a6d1-11ec-8d33-84a93ea18ae6.txt  \n",
            "  inflating: train/labels/No.b94ba4ee-a6d1-11ec-b2ba-84a93ea18ae6.txt  \n",
            "  inflating: train/labels/No.ba816d2e-a6d1-11ec-898a-84a93ea18ae6.txt  \n",
            "  inflating: train/labels/No.bbb5b350-a6d1-11ec-988f-84a93ea18ae6.txt  \n",
            "  inflating: train/labels/No.bce99c74-a6d1-11ec-8c1b-84a93ea18ae6.txt  \n",
            "  inflating: train/labels/No.be1def24-a6d1-11ec-bf88-84a93ea18ae6.txt  \n",
            "  inflating: train/labels/No.bf529c0c-a6d1-11ec-baff-84a93ea18ae6.txt  \n",
            "  inflating: train/labels/No.c088dc76-a6d1-11ec-b9cb-84a93ea18ae6.txt  \n",
            "  inflating: train/labels/No.c1bf9258-a6d1-11ec-95a2-84a93ea18ae6.txt  \n",
            "  inflating: train/labels/No.c2f48c90-a6d1-11ec-8e7f-84a93ea18ae6.txt  \n",
            "  inflating: train/labels/No.c42a01da-a6d1-11ec-9f4f-84a93ea18ae6.txt  \n",
            "  inflating: train/labels/No.c55e849e-a6d1-11ec-8e7e-84a93ea18ae6.txt  \n",
            "  inflating: train/labels/No.c6947c6e-a6d1-11ec-8894-84a93ea18ae6.txt  \n",
            "  inflating: train/labels/No.c7caa8fa-a6d1-11ec-a447-84a93ea18ae6.txt  \n",
            "  inflating: train/labels/No.c8ff4a42-a6d1-11ec-8fe7-84a93ea18ae6.txt  \n",
            "  inflating: train/labels/No.ca3403b8-a6d1-11ec-bec1-84a93ea18ae6.txt  \n",
            "  inflating: train/labels/No.cb69474c-a6d1-11ec-b02e-84a93ea18ae6.txt  \n",
            "  inflating: train/labels/No.cc9f7640-a6d1-11ec-bab0-84a93ea18ae6.txt  \n",
            "  inflating: train/labels/No.cdd3d20a-a6d1-11ec-9387-84a93ea18ae6.txt  \n",
            "  inflating: train/labels/No.cf0823e6-a6d1-11ec-b88a-84a93ea18ae6.txt  \n",
            "  inflating: train/labels/Please.0c268ce4-a6d2-11ec-9f18-84a93ea18ae6.txt  \n",
            "  inflating: train/labels/Please.0d5c368c-a6d2-11ec-aa39-84a93ea18ae6.txt  \n",
            "  inflating: train/labels/Please.0eb881f4-a6d2-11ec-b189-84a93ea18ae6.txt  \n",
            "  inflating: train/labels/Please.0fee219c-a6d2-11ec-b053-84a93ea18ae6.txt  \n",
            "  inflating: train/labels/Please.1124025e-a6d2-11ec-bda7-84a93ea18ae6.txt  \n",
            "  inflating: train/labels/Please.125a16da-a6d2-11ec-934a-84a93ea18ae6.txt  \n",
            "  inflating: train/labels/Please.13901bf0-a6d2-11ec-bb59-84a93ea18ae6.txt  \n",
            "  inflating: train/labels/Please.14c6782c-a6d2-11ec-be1e-84a93ea18ae6.txt  \n",
            "  inflating: train/labels/Please.15fa9c00-a6d2-11ec-9b9e-84a93ea18ae6.txt  \n",
            "  inflating: train/labels/Please.172f70ca-a6d2-11ec-b282-84a93ea18ae6.txt  \n",
            "  inflating: train/labels/Please.1866028c-a6d2-11ec-967c-84a93ea18ae6.txt  \n",
            "  inflating: train/labels/Please.199d917a-a6d2-11ec-a9b6-84a93ea18ae6.txt  \n",
            "  inflating: train/labels/Please.1ad33b64-a6d2-11ec-a9f7-84a93ea18ae6.txt  \n",
            "  inflating: train/labels/Please.1c08151c-a6d2-11ec-b693-84a93ea18ae6.txt  \n",
            "  inflating: train/labels/Please.1d3ced9e-a6d2-11ec-93b0-84a93ea18ae6.txt  \n",
            "  inflating: train/labels/Please.1e71bad2-a6d2-11ec-9ea9-84a93ea18ae6.txt  \n",
            "  inflating: train/labels/Please.1fa61fc0-a6d2-11ec-8bab-84a93ea18ae6.txt  \n",
            "  inflating: train/labels/Please.20dbdb1e-a6d2-11ec-86ce-84a93ea18ae6.txt  \n",
            "  inflating: train/labels/Please.2210c568-a6d2-11ec-a8b7-84a93ea18ae6.txt  \n",
            "  inflating: train/labels/Please.23459af4-a6d2-11ec-9611-84a93ea18ae6.txt  \n",
            "  inflating: train/labels/Thanks.d40538dc-a6d1-11ec-83da-84a93ea18ae6.txt  \n",
            "  inflating: train/labels/Thanks.d53a6f1c-a6d1-11ec-b146-84a93ea18ae6.txt  \n",
            "  inflating: train/labels/Thanks.d6712d6e-a6d1-11ec-a11a-84a93ea18ae6.txt  \n",
            "  inflating: train/labels/Thanks.d7a66c58-a6d1-11ec-bc8a-84a93ea18ae6.txt  \n",
            "  inflating: train/labels/Thanks.d8e8125c-a6d1-11ec-ab8a-84a93ea18ae6.txt  \n",
            "  inflating: train/labels/Thanks.da1e126c-a6d1-11ec-95b2-84a93ea18ae6.txt  \n",
            "  inflating: train/labels/Thanks.db530524-a6d1-11ec-879c-84a93ea18ae6.txt  \n",
            "  inflating: train/labels/Thanks.dc8902a6-a6d1-11ec-abc8-84a93ea18ae6.txt  \n",
            "  inflating: train/labels/Thanks.ddcc3be2-a6d1-11ec-9704-84a93ea18ae6.txt  \n",
            "  inflating: train/labels/Thanks.df0337a8-a6d1-11ec-b55f-84a93ea18ae6.txt  \n",
            "  inflating: train/labels/Thanks.e038a1c8-a6d1-11ec-8deb-84a93ea18ae6.txt  \n",
            "  inflating: train/labels/Thanks.e16c8da8-a6d1-11ec-9812-84a93ea18ae6.txt  \n",
            "  inflating: train/labels/Thanks.e2a18e54-a6d1-11ec-ad45-84a93ea18ae6.txt  \n",
            "  inflating: train/labels/Thanks.e3d6259c-a6d1-11ec-84de-84a93ea18ae6.txt  \n",
            "  inflating: train/labels/Thanks.e50d153a-a6d1-11ec-85e6-84a93ea18ae6.txt  \n",
            "  inflating: train/labels/Thanks.e642cf5c-a6d1-11ec-af05-84a93ea18ae6.txt  \n",
            "  inflating: train/labels/Thanks.e778e9c6-a6d1-11ec-bbd4-84a93ea18ae6.txt  \n",
            "  inflating: train/labels/Thanks.e8af6876-a6d1-11ec-a52b-84a93ea18ae6.txt  \n",
            "  inflating: train/labels/Thanks.e9e54c62-a6d1-11ec-8f75-84a93ea18ae6.txt  \n",
            "  inflating: train/labels/Thanks.eb1a349a-a6d1-11ec-8cda-84a93ea18ae6.txt  \n",
            "  inflating: train/labels/Yes.9c38304a-a6d1-11ec-9479-84a93ea18ae6.txt  \n",
            "  inflating: train/labels/Yes.9d6bf3fa-a6d1-11ec-a87d-84a93ea18ae6.txt  \n",
            "  inflating: train/labels/Yes.9ea079ba-a6d1-11ec-9707-84a93ea18ae6.txt  \n",
            "  inflating: train/labels/Yes.9fd5c7c0-a6d1-11ec-853d-84a93ea18ae6.txt  \n",
            "  inflating: train/labels/Yes.a10d3edc-a6d1-11ec-a82b-84a93ea18ae6.txt  \n",
            "  inflating: train/labels/Yes.a37858ec-a6d1-11ec-bde5-84a93ea18ae6.txt  \n",
            "  inflating: train/labels/Yes.a4ae0126-a6d1-11ec-98f0-84a93ea18ae6.txt  \n",
            "  inflating: train/labels/Yes.a5e2a7ec-a6d1-11ec-818d-84a93ea18ae6.txt  \n",
            "  inflating: train/labels/Yes.a7172876-a6d1-11ec-949d-84a93ea18ae6.txt  \n",
            "  inflating: train/labels/Yes.a84d35fa-a6d1-11ec-9eab-84a93ea18ae6.txt  \n",
            "  inflating: train/labels/Yes.a9824dee-a6d1-11ec-8558-84a93ea18ae6.txt  \n",
            "  inflating: train/labels/Yes.aab81802-a6d1-11ec-b2b7-84a93ea18ae6.txt  \n",
            "  inflating: train/labels/Yes.abee0b40-a6d1-11ec-b920-84a93ea18ae6.txt  \n",
            "  inflating: train/labels/Yes.ad246fee-a6d1-11ec-9275-84a93ea18ae6.txt  \n",
            "  inflating: train/labels/Yes.ae592ce2-a6d1-11ec-85cb-84a93ea18ae6.txt  \n",
            "  inflating: train/labels/Yes.af8e1b36-a6d1-11ec-b27d-84a93ea18ae6.txt  \n",
            "  inflating: train/labels/Yes.b0c45a10-a6d1-11ec-9f4e-84a93ea18ae6.txt  \n",
            "  inflating: train/labels/Yes.b1fa407e-a6d1-11ec-8cec-84a93ea18ae6 - Copy.txt  \n",
            "  inflating: train/labels/Yes.b1fa407e-a6d1-11ec-8cec-84a93ea18ae6.txt  \n",
            "  inflating: train/labels/Yes.b32eaca4-a6d1-11ec-a3b5-84a93ea18ae6.txt  \n"
          ]
        }
      ]
    },
    {
      "cell_type": "code",
      "source": [
        "%cat data.yaml"
      ],
      "metadata": {
        "colab": {
          "base_uri": "https://localhost:8080/"
        },
        "id": "0GbYCxQzOhk2",
        "outputId": "647bdd03-10c4-4dd9-a14a-1fa06d457f66"
      },
      "execution_count": 9,
      "outputs": [
        {
          "output_type": "stream",
          "name": "stdout",
          "text": [
            "train: ../train/images\n",
            "val: ../test/images\n",
            "\n",
            "nc: 6\n",
            "names: ['Hello', 'IloveYou', 'No', 'Please', 'Thanks', 'Yes']\n"
          ]
        }
      ]
    },
    {
      "cell_type": "code",
      "source": [
        "import yaml\n",
        "with open(\"data.yaml\",'r') as stream:\n",
        "  num_classes = str(yaml.safe_load(stream)['nc'])\n"
      ],
      "metadata": {
        "id": "wrwuucB_QSWS"
      },
      "execution_count": 10,
      "outputs": []
    },
    {
      "cell_type": "code",
      "source": [
        "num_classes"
      ],
      "metadata": {
        "colab": {
          "base_uri": "https://localhost:8080/",
          "height": 35
        },
        "id": "LG5oZolnQTUD",
        "outputId": "00fc675f-f1cb-451e-9252-2259968e55be"
      },
      "execution_count": 11,
      "outputs": [
        {
          "output_type": "execute_result",
          "data": {
            "text/plain": [
              "'6'"
            ],
            "application/vnd.google.colaboratory.intrinsic+json": {
              "type": "string"
            }
          },
          "metadata": {},
          "execution_count": 11
        }
      ]
    },
    {
      "cell_type": "code",
      "source": [
        "print(num_classes)"
      ],
      "metadata": {
        "id": "eIO96CejRUuS",
        "colab": {
          "base_uri": "https://localhost:8080/"
        },
        "outputId": "1079ee29-9d48-445b-9bb4-b57f9306df57"
      },
      "execution_count": 12,
      "outputs": [
        {
          "output_type": "stream",
          "name": "stdout",
          "text": [
            "6\n"
          ]
        }
      ]
    },
    {
      "cell_type": "code",
      "source": [],
      "metadata": {
        "id": "VxRI4MloPsV9"
      },
      "execution_count": 12,
      "outputs": []
    }
  ]
}